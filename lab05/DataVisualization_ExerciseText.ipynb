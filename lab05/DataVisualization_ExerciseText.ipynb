{
 "cells": [
  {
   "cell_type": "markdown",
   "metadata": {},
   "source": [
    "# Traccia:"
   ]
  },
  {
   "cell_type": "markdown",
   "metadata": {},
   "source": [
    "1. Caricare il dataset \"winemag-data_first150k.csv\" all'interno di un DataFrame pandas\n",
    "2. Visualizzare tramite un bar plot le 10 province dalle quali si producono più vini (ovvero con un conteggio di vini maggiore). Cosa si evince dal grafico?\n",
    "3. Visualizzare tramite un bar plot le 10 province dalle quali si producono più vini. Visualizzare questa volta dati percentuali. Cosa si evince dal grafico?\n",
    "4. Visualizzare tramite un bar plot il conteggio dei voti (colonna points) assegnati alle varie recensioni. Qual è il voto che è stato assegnato al maggior numero di recensioni? Visualizzare il grafico anche con seaborn.\n",
    "5. Modificare il grafico precedente in modo da visualizzare i voti in senso crescente.\n",
    "6. Visualizzare la stessa informazione del grafico del punto 8 con un grafico a linea\n",
    "7. Visualizzare con un istogramma la frequenza dei voti assegnati nelle varie recensioni.  Visualizzare il grafico anche con seaborn.\n",
    "8. Visualizzare con un istogramma la frequenza del prezzo dei vini.\n",
    "9. Visualizzare con un istogramma la frequenza del prezzo dei vini che costano meno di 200 dollari.\n",
    "10. Visualizzare con uno scatter plot la relazione che sussiste tra voti assegnati nelle recensioni e prezzo del vino. Selezionare un sample di 100 elementi. Cosa è possibile notare? Visualizzare il grafico anche con seaborn.\n",
    "11. Selezionare le sole recensioni che si riferiscono alle seguenti varietà di vini: \"Bordeaux-style Red Blend\", \"Cabernet Sauvignon\", \"Chardonnay\", \"Pinot Noir\", \"Red Blend\". Raggruppare i vini per voto e varietà e conteggiarli (usare un group by). Visualizzare questa informazione con un bar plot stacked.\n",
    "12. Visualizzare l'informazione precedente con un plot area ed un line chart.\n",
    "13. Visualizzare con un box plot (con seaborn) la distribuzione dei voti per le 5 varietà di vini \"Bordeaux-style Red Blend\", \"Cabernet Sauvignon\", \"Chardonnay\", \"Pinot Noir\", \"Red Blend\".\n",
    "14. Visualizzare con seaborn un istogramma relativo alla frequenza di voti per ognuna delle 5 varietà di vini precedenti. Utilizzare FacetGrid.\n",
    "15. Visualizzare con pairplot seaborn una comparison tra il prezzo dei vini e i voti associati. Selezionare un sample di 100 elementi e rimuovere prima i valori nulli.\n",
    "16. Visualizzare in un heatmap seaborn la correlazione tra il prezzo dei vini e i voti associati."
   ]
  },
  {
   "cell_type": "code",
   "execution_count": null,
   "metadata": {
    "collapsed": true
   },
   "outputs": [],
   "source": []
  }
 ],
 "metadata": {
  "kernelspec": {
   "display_name": "Python 3",
   "language": "python",
   "name": "python3"
  },
  "language_info": {
   "codemirror_mode": {
    "name": "ipython",
    "version": 3
   },
   "file_extension": ".py",
   "mimetype": "text/x-python",
   "name": "python",
   "nbconvert_exporter": "python",
   "pygments_lexer": "ipython3",
   "version": "3.6.8"
  }
 },
 "nbformat": 4,
 "nbformat_minor": 2
}
