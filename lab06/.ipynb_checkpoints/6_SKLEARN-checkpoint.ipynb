{
 "cells": [
  {
   "cell_type": "markdown",
   "metadata": {},
   "source": [
    "# Scikit-Learn"
   ]
  },
  {
   "cell_type": "markdown",
   "metadata": {},
   "source": [
    "- Scikit-Learn is a package that provides efficient versions of a large number of common ML algorithms. \n",
    "- Scikit-Learn is characterized by a clean, uniform, and streamlined API, as well as by very useful and complete online documentation.\n",
    "- A benefit of this uniformity is that once you understand the basic use and syntax of Scikit-Learn for one type of model, switching to a new model or algorithm is very straightforward.\n"
   ]
  },
  {
   "cell_type": "markdown",
   "metadata": {},
   "source": [
    "## Data Representation in Scikit-Learn\n",
    "\n",
    "- The information can be thought of as a two-dimensional numerical array, the features matrix. \n",
    "- By convention, this matrix is stored in a variable named X. \n",
    "- The features matrix is assumed to be two-dimensional, with shape [n_samples, n_features], and is most often contained in a NumPy array or a Pandas DataFrame.\n",
    "    - The samples (i.e., rows) always refer to the individual objects described by the dataset.\n",
    "    - The features (i.e., columns) refer to the distinct observations that describe each sample in a quantitative manner.\n",
    "\n",
    "## Target array\n",
    "- The target array, called y,  is usually one dimensional, with length n_samples, and is generally contained in a NumPy array or Pandas Series. \n",
    "- The target array may have continuous numerical values, or discrete classes/labels. \n",
    "- The target array is that it is usually the quantity we want to predict from the data.\n",
    "\n",
    "\n"
   ]
  },
  {
   "cell_type": "markdown",
   "metadata": {},
   "source": [
    "## Scikit-Learn’s Estimator API\n",
    "\n",
    "### Estimators objects\n",
    "- An estimator is any object that learns from data\n",
    "    - it may be a classification, regression or clustering algorithm or a transformer that extracts/filters useful features from raw data.\n",
    "- Fitting data: the main API implemented by scikit-learn is that of the estimator.;\n",
    "    - All estimator objects expose a fit method that takes a dataset (usually a 2-d array):\n",
    "    \n",
    "<tt> >>> estimator.fit(data)</tt>\n",
    "\n",
    "- Estimator parameters: All the parameters of an estimator can be set when it is instantiated or by modifying the corresponding attribute:\n",
    "\n",
    "<tt> >>> estimator = Estimator(param1=1, param2=2) </tt>\n",
    "- Estimated parameters: When data is fitted with an estimator, parameters are estimated from the data at hand. All the estimated parameters are attributes of the estimator object ending by an underscore:\n",
    "    \n",
    "    <tt> >>> estimator.estimated_param_ </tt>\n"
   ]
  },
  {
   "cell_type": "code",
   "execution_count": null,
   "metadata": {
    "colab": {},
    "colab_type": "code",
    "id": "brZg8fUadtKK"
   },
   "outputs": [],
   "source": [
    "import matplotlib.pyplot as plt\n",
    "import numpy as np\n",
    "import pandas as pd"
   ]
  },
  {
   "cell_type": "code",
   "execution_count": null,
   "metadata": {
    "colab": {},
    "colab_type": "code",
    "id": "iQNYAjEedtKO"
   },
   "outputs": [],
   "source": [
    "import sklearn as sk"
   ]
  },
  {
   "cell_type": "code",
   "execution_count": null,
   "metadata": {
    "colab": {},
    "colab_type": "code",
    "id": "78kZ5468dtKQ"
   },
   "outputs": [],
   "source": [
    "from sklearn import datasets"
   ]
  },
  {
   "cell_type": "code",
   "execution_count": null,
   "metadata": {
    "colab": {},
    "colab_type": "code",
    "id": "VY9t3HI8dtKT"
   },
   "outputs": [],
   "source": [
    "iris = datasets.load_iris()"
   ]
  },
  {
   "cell_type": "code",
   "execution_count": null,
   "metadata": {
    "colab": {},
    "colab_type": "code",
    "id": "fsuXcMrgdtKV",
    "outputId": "aa84dc39-b797-4ea0-bf36-ff22f274087e"
   },
   "outputs": [],
   "source": [
    "iris"
   ]
  },
  {
   "cell_type": "code",
   "execution_count": null,
   "metadata": {
    "colab": {},
    "colab_type": "code",
    "id": "jWxqUi2WdtKZ"
   },
   "outputs": [],
   "source": [
    "X = iris.data"
   ]
  },
  {
   "cell_type": "code",
   "execution_count": null,
   "metadata": {
    "colab": {},
    "colab_type": "code",
    "id": "x3W-6od4dtKc"
   },
   "outputs": [],
   "source": [
    "y =iris.target"
   ]
  },
  {
   "cell_type": "code",
   "execution_count": null,
   "metadata": {
    "colab": {},
    "colab_type": "code",
    "id": "uaLNIdWOdtKe",
    "outputId": "648fd315-3265-4158-9670-694e3a498b0d"
   },
   "outputs": [],
   "source": [
    "y"
   ]
  },
  {
   "cell_type": "code",
   "execution_count": null,
   "metadata": {
    "colab": {},
    "colab_type": "code",
    "id": "iETkRpD2dtKh",
    "outputId": "b59eb9e3-e6cb-40d9-b2fa-a2883bdaba41"
   },
   "outputs": [],
   "source": [
    "X"
   ]
  },
  {
   "cell_type": "code",
   "execution_count": null,
   "metadata": {
    "colab": {},
    "colab_type": "code",
    "id": "HZHr-T4ZdtKk"
   },
   "outputs": [],
   "source": [
    "from sklearn.neighbors import KNeighborsClassifier"
   ]
  },
  {
   "cell_type": "code",
   "execution_count": null,
   "metadata": {
    "colab": {},
    "colab_type": "code",
    "id": "Y5OdZhiNdtKm"
   },
   "outputs": [],
   "source": [
    "knn = KNeighborsClassifier()"
   ]
  },
  {
   "cell_type": "code",
   "execution_count": null,
   "metadata": {
    "colab": {},
    "colab_type": "code",
    "id": "6l1FnFBsdtKo",
    "outputId": "95b80d48-ab60-4224-9e94-99257b5c64c7"
   },
   "outputs": [],
   "source": [
    "knn.fit(X,y)"
   ]
  },
  {
   "cell_type": "code",
   "execution_count": null,
   "metadata": {
    "colab": {},
    "colab_type": "code",
    "id": "1pOKr8XrdtKr",
    "outputId": "3f1b8c74-fbf3-4ab5-8d6a-c9efa917fb76"
   },
   "outputs": [],
   "source": [
    "knn.predict(X)"
   ]
  },
  {
   "cell_type": "code",
   "execution_count": null,
   "metadata": {
    "colab": {},
    "colab_type": "code",
    "id": "rLg2hHC6dtKu",
    "outputId": "e46eb9cc-76f8-450a-f723-e17b759d1a2f"
   },
   "outputs": [],
   "source": [
    "len(X)"
   ]
  },
  {
   "cell_type": "code",
   "execution_count": null,
   "metadata": {
    "colab": {},
    "colab_type": "code",
    "id": "NfU4IRQSdtKy",
    "outputId": "7694db83-3321-46d9-ba96-0ce9dfcde291"
   },
   "outputs": [],
   "source": [
    "knn.fit(X[:100],y[:100])"
   ]
  },
  {
   "cell_type": "code",
   "execution_count": null,
   "metadata": {
    "colab": {},
    "colab_type": "code",
    "id": "YUbtF4EzdtK0",
    "outputId": "4aa37859-c7da-4f8b-de2d-7cd3151abe54"
   },
   "outputs": [],
   "source": [
    "knn.predict(X[100:])"
   ]
  },
  {
   "cell_type": "code",
   "execution_count": null,
   "metadata": {
    "colab": {},
    "colab_type": "code",
    "id": "txeV2E5IdtK4"
   },
   "outputs": [],
   "source": [
    "result=knn.predict(X[100:])"
   ]
  },
  {
   "cell_type": "code",
   "execution_count": null,
   "metadata": {
    "colab": {},
    "colab_type": "code",
    "id": "e_FmHIi5dtK6",
    "outputId": "ecc170bd-4853-416e-fdf7-3817bac65a8d"
   },
   "outputs": [],
   "source": [
    "y[100:]-result"
   ]
  },
  {
   "cell_type": "code",
   "execution_count": null,
   "metadata": {},
   "outputs": [],
   "source": [
    "unique, counts = np.unique((y[100:]-result), return_counts=True) \n",
    "dict(zip(unique, counts))"
   ]
  },
  {
   "cell_type": "code",
   "execution_count": null,
   "metadata": {
    "colab": {},
    "colab_type": "code",
    "id": "zCPmGJIodtLA",
    "outputId": "af34d533-be34-482d-c1bb-c2beeed929a3"
   },
   "outputs": [],
   "source": [
    "y"
   ]
  },
  {
   "cell_type": "code",
   "execution_count": null,
   "metadata": {
    "colab": {},
    "colab_type": "code",
    "id": "S9jPpuZZdtLD"
   },
   "outputs": [],
   "source": [
    "indice =np.random.permutation(len(X))"
   ]
  },
  {
   "cell_type": "code",
   "execution_count": null,
   "metadata": {
    "colab": {},
    "colab_type": "code",
    "id": "Ar4yWu9EdtLF",
    "outputId": "0d3f0ba9-08b6-47da-dd2d-aab83dc02499"
   },
   "outputs": [],
   "source": [
    "indice"
   ]
  },
  {
   "cell_type": "code",
   "execution_count": null,
   "metadata": {
    "colab": {},
    "colab_type": "code",
    "id": "cXg-O7mpdtLI"
   },
   "outputs": [],
   "source": [
    "X_train= X[indice[:100]]\n",
    "y_train= y[indice[:100]]\n",
    "X_test= X[indice[100:]]\n",
    "y_test= y[indice[100:]]"
   ]
  },
  {
   "cell_type": "code",
   "execution_count": null,
   "metadata": {
    "colab": {},
    "colab_type": "code",
    "id": "2o_GPnNIdtLK",
    "outputId": "31bd1af0-27d3-4930-9900-35a38ce2c247"
   },
   "outputs": [],
   "source": [
    "knn.fit(X_train,y_train)"
   ]
  },
  {
   "cell_type": "code",
   "execution_count": null,
   "metadata": {
    "colab": {},
    "colab_type": "code",
    "id": "Vhn8nKkvdtLN"
   },
   "outputs": [],
   "source": [
    "result=knn.predict(X_test)"
   ]
  },
  {
   "cell_type": "code",
   "execution_count": null,
   "metadata": {
    "colab": {},
    "colab_type": "code",
    "id": "m2Xa4dg-dtLP",
    "outputId": "03b4f802-1591-4550-c0f6-20550e27e7a7"
   },
   "outputs": [],
   "source": [
    "y_test - result"
   ]
  },
  {
   "cell_type": "code",
   "execution_count": null,
   "metadata": {
    "colab": {},
    "colab_type": "code",
    "id": "yh_UiWxedtLS",
    "outputId": "4dcecedf-a72f-4fd6-8ffd-af45635f44e1"
   },
   "outputs": [],
   "source": [
    "unique, counts = np.unique((y_test-result), return_counts=True) \n",
    "dict(zip(unique, counts))"
   ]
  },
  {
   "cell_type": "code",
   "execution_count": null,
   "metadata": {
    "colab": {},
    "colab_type": "code",
    "id": "yY4xRWVxdtLV"
   },
   "outputs": [],
   "source": [
    "knn = KNeighborsClassifier(n_neighbors=1)"
   ]
  },
  {
   "cell_type": "code",
   "execution_count": null,
   "metadata": {
    "colab": {},
    "colab_type": "code",
    "id": "H5K1KfH0dtLY",
    "outputId": "3082839d-9348-441c-ccac-64a05ae101ed"
   },
   "outputs": [],
   "source": [
    "knn.fit(X_train,y_train)"
   ]
  },
  {
   "cell_type": "code",
   "execution_count": null,
   "metadata": {
    "colab": {},
    "colab_type": "code",
    "id": "LWZzOR8PdtLd"
   },
   "outputs": [],
   "source": [
    "result=knn.predict(X_test)"
   ]
  },
  {
   "cell_type": "code",
   "execution_count": null,
   "metadata": {
    "colab": {},
    "colab_type": "code",
    "id": "-7yZujS7dtLf",
    "outputId": "b8105d51-58e1-42fa-f019-e3ad9cea8b61"
   },
   "outputs": [],
   "source": [
    "result"
   ]
  },
  {
   "cell_type": "code",
   "execution_count": null,
   "metadata": {
    "colab": {},
    "colab_type": "code",
    "id": "HyeclHg3dtLh",
    "outputId": "b7a6b9ac-fa42-48ca-c717-972ad7d35456"
   },
   "outputs": [],
   "source": [
    "unique, counts = np.unique((y_test-result), return_counts=True) \n",
    "dict(zip(unique, counts))"
   ]
  },
  {
   "cell_type": "code",
   "execution_count": null,
   "metadata": {
    "colab": {},
    "colab_type": "code",
    "id": "QfdJuIN_dtLj"
   },
   "outputs": [],
   "source": [
    "from sklearn.tree import DecisionTreeClassifier"
   ]
  },
  {
   "cell_type": "code",
   "execution_count": null,
   "metadata": {
    "colab": {},
    "colab_type": "code",
    "id": "boCES4CFdtLl"
   },
   "outputs": [],
   "source": [
    "dtc = DecisionTreeClassifier()"
   ]
  },
  {
   "cell_type": "code",
   "execution_count": null,
   "metadata": {
    "colab": {},
    "colab_type": "code",
    "id": "1md57ZgJdtLn"
   },
   "outputs": [],
   "source": [
    "dtc.fit(X_train,y_train)\n",
    "result=dtc.predict(X_test)"
   ]
  },
  {
   "cell_type": "code",
   "execution_count": null,
   "metadata": {
    "colab": {},
    "colab_type": "code",
    "id": "daT2lJV-dtLp",
    "outputId": "1e0a6160-ff05-4f6a-b9b9-d0945e07ebba"
   },
   "outputs": [],
   "source": [
    "y_test - result"
   ]
  },
  {
   "cell_type": "code",
   "execution_count": null,
   "metadata": {},
   "outputs": [],
   "source": [
    "unique, counts = np.unique((y_test-result), return_counts=True) \n",
    "dict(zip(unique, counts))"
   ]
  },
  {
   "cell_type": "markdown",
   "metadata": {
    "colab_type": "text",
    "collapsed": true,
    "id": "SwR5_y-jdtLu"
   },
   "source": [
    "## 1) creare un dataframe che contenga i valori di iris\n",
    "## 2) creare due nuovin attributi che rappresentano l'area del petalo e del sepalo\n",
    "## 3) utilizzare il nuovo dataframe per fare la predizione\n",
    "## 4) utilizzare un classificatore non ancora introdotto (bayes?)"
   ]
  },
  {
   "cell_type": "code",
   "execution_count": null,
   "metadata": {
    "colab": {},
    "colab_type": "code",
    "id": "nqY3-5SKdtLu"
   },
   "outputs": [],
   "source": []
  }
 ],
 "metadata": {
  "colab": {
   "name": "6_SKLEARN.ipynb",
   "provenance": [],
   "version": "0.3.2"
  },
  "kernelspec": {
   "display_name": "Python 3",
   "language": "python",
   "name": "python3"
  },
  "language_info": {
   "codemirror_mode": {
    "name": "ipython",
    "version": 3
   },
   "file_extension": ".py",
   "mimetype": "text/x-python",
   "name": "python",
   "nbconvert_exporter": "python",
   "pygments_lexer": "ipython3",
   "version": "3.7.5rc1"
  }
 },
 "nbformat": 4,
 "nbformat_minor": 1
}
