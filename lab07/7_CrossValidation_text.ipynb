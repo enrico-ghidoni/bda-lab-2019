{
 "cells": [
  {
   "cell_type": "markdown",
   "metadata": {},
   "source": [
    "Traccia:\n",
    "    1. Caricare il dataset iris\n",
    "    2. Dividere il dataset in train e test set\n",
    "    3. Allenare un classificatore KNN con 5 neighbors e valutare la sua accuratezza\n",
    "    4. Valutare l'accuratezza del modello usando una KFold cross validation con K=10\n",
    "    5. Identificare il migliore valore di numero di neighbors in un range (1,31). Utilizzare ad ogni iterazione una KFold cross validation con K=10 e con misura di scoring l'accuratezza\n",
    "    6. [facoltativo] Plottare le accuratezze precedenti ed indentificare il numero ottimale di neighbors\n",
    "    7. Calcolare l'accuratezza in cross validation del modello con il valore di neighbors appena trovato\n",
    "    8. Comparare tale risultato con l'acuratezza di una LogisticRegression. Quale modello è migliore?\n",
    "    9. Caricare il dataset Advertising.csv (la prima colonna del dataset rappresenta l'indice)\n",
    "    10. Cercare di predire il numero di vendite (attributo Sales) sulla base delle altre variabili tramite un modello di regressione lineare\n",
    "    11. Calcolare il RMSE del modello usando una KFold cross validation con K=10 (Nota: il modello di cross validation può restituire solo il negato del MSE. Occorre derivare la misura di interessa da questo dato.)\n",
    "    12. Realizzare lo stesso calcolo supponendo di elimnare la feature Newspaper. Come cambiano i risultati? La feature Newspaper è significativa?"
   ]
  },
  {
   "cell_type": "code",
   "execution_count": null,
   "metadata": {
    "collapsed": true
   },
   "outputs": [],
   "source": []
  }
 ],
 "metadata": {
  "kernelspec": {
   "display_name": "Python 3",
   "language": "python",
   "name": "python3"
  },
  "language_info": {
   "codemirror_mode": {
    "name": "ipython",
    "version": 3
   },
   "file_extension": ".py",
   "mimetype": "text/x-python",
   "name": "python",
   "nbconvert_exporter": "python",
   "pygments_lexer": "ipython3",
   "version": "3.6.8"
  }
 },
 "nbformat": 4,
 "nbformat_minor": 2
}
