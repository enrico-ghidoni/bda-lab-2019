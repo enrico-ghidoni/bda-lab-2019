{
 "cells": [
  {
   "cell_type": "code",
   "execution_count": null,
   "metadata": {
    "collapsed": true
   },
   "outputs": [],
   "source": [
    "Traccia:\n",
    "    1. Utilizzare la funzione datasets.load_diabetes() per caricare il dataset\n",
    "    2. Selezionare la sola feature BMI\n",
    "    3. Suddividere il dataset in train e test\n",
    "    3. Allenare un modello di regressione lineare\n",
    "    4. Calcolare MSE e R2 score\n",
    "    5. [Opzionale] Visualizzare come la retta di regressione fitta i punti"
   ]
  }
 ],
 "metadata": {
  "kernelspec": {
   "display_name": "Python 3",
   "language": "python",
   "name": "python3"
  },
  "language_info": {
   "codemirror_mode": {
    "name": "ipython",
    "version": 3
   },
   "file_extension": ".py",
   "mimetype": "text/x-python",
   "name": "python",
   "nbconvert_exporter": "python",
   "pygments_lexer": "ipython3",
   "version": "3.6.8"
  }
 },
 "nbformat": 4,
 "nbformat_minor": 2
}
