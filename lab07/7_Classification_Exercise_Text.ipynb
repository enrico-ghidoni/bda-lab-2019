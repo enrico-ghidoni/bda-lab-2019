{
 "cells": [
  {
   "cell_type": "markdown",
   "metadata": {},
   "source": [
    "Traccia:\n",
    "1. Caricare il dataset data/data_banknote_authentication.txt ed assegnarli le colonne \"variance\", \"skewness\", \"curtosis\", \"entropy\", \"class\"\n",
    "2. Visualizzare la distribuzione dei valori della colonna class\n",
    "3. Dividere il dataset in training e test set\n",
    "4. Allenare un classificatore di tipo LogisticRegression\n",
    "5. Calcolare e visualizzare la confusion matrix\n",
    "6. Calcolare TP, TN, FP e FN\n",
    "7. Calcolare accuratezza, precision, recall, f1 score, fbeta score, specificity\n",
    "8. Allenare un altro classificatore a piacere e comparare i risultati"
   ]
  },
  {
   "cell_type": "code",
   "execution_count": null,
   "metadata": {
    "collapsed": true
   },
   "outputs": [],
   "source": []
  }
 ],
 "metadata": {
  "kernelspec": {
   "display_name": "Python 3",
   "language": "python",
   "name": "python3"
  },
  "language_info": {
   "codemirror_mode": {
    "name": "ipython",
    "version": 3
   },
   "file_extension": ".py",
   "mimetype": "text/x-python",
   "name": "python",
   "nbconvert_exporter": "python",
   "pygments_lexer": "ipython3",
   "version": "3.6.8"
  }
 },
 "nbformat": 4,
 "nbformat_minor": 2
}
