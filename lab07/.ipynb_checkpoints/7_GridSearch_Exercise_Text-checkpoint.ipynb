{
 "cells": [
  {
   "cell_type": "markdown",
   "metadata": {
    "collapsed": true
   },
   "source": [
    "Traccia:\n",
    "    1. Caricare il dataset wineQualityReds (la prima colonna corrisponde all'indice)\n",
    "    2. Suddividere il dataset in train e test set considerando che la classe da predire è quella nominata quality\n",
    "    3. Scalare i dati di trainining e test\n",
    "    4. Allenare un classificatore RandomForest con 300 estimators\n",
    "    5. Valutare l'accuratezza del modello con una KFold cross validation (con K=5)\n",
    "    6. Applicare una GridSearch in cross validation con i seguenti parametri da testare:\n",
    "        'n_estimators': [100, 300, 500, 800, 1000],\n",
    "        'criterion': ['gini', 'entropy'],\n",
    "        'bootstrap': [True, False]\n",
    "    7. Mostrare la configurazione che genera massima accuratezza"
   ]
  },
  {
   "cell_type": "code",
   "execution_count": null,
   "metadata": {
    "collapsed": true
   },
   "outputs": [],
   "source": []
  }
 ],
 "metadata": {
  "kernelspec": {
   "display_name": "Python 3",
   "language": "python",
   "name": "python3"
  },
  "language_info": {
   "codemirror_mode": {
    "name": "ipython",
    "version": 3
   },
   "file_extension": ".py",
   "mimetype": "text/x-python",
   "name": "python",
   "nbconvert_exporter": "python",
   "pygments_lexer": "ipython3",
   "version": "3.7.6"
  }
 },
 "nbformat": 4,
 "nbformat_minor": 2
}
