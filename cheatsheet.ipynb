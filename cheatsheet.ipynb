{
 "cells": [
  {
   "cell_type": "code",
   "execution_count": 2,
   "metadata": {},
   "outputs": [],
   "source": [
    "import pandas as pd\n",
    "import numpy as np"
   ]
  },
  {
   "cell_type": "code",
   "execution_count": 3,
   "metadata": {},
   "outputs": [],
   "source": [
    "dataset = pd.read_csv('exam-2018-09-04/weather.csv', sep=';')"
   ]
  },
  {
   "cell_type": "markdown",
   "metadata": {},
   "source": [
    "## Dataset analysis"
   ]
  },
  {
   "cell_type": "code",
   "execution_count": 4,
   "metadata": {},
   "outputs": [
    {
     "data": {
      "text/html": [
       "<div>\n",
       "<style scoped>\n",
       "    .dataframe tbody tr th:only-of-type {\n",
       "        vertical-align: middle;\n",
       "    }\n",
       "\n",
       "    .dataframe tbody tr th {\n",
       "        vertical-align: top;\n",
       "    }\n",
       "\n",
       "    .dataframe thead th {\n",
       "        text-align: right;\n",
       "    }\n",
       "</style>\n",
       "<table border=\"1\" class=\"dataframe\">\n",
       "  <thead>\n",
       "    <tr style=\"text-align: right;\">\n",
       "      <th></th>\n",
       "      <th>Month</th>\n",
       "      <th>Location</th>\n",
       "      <th>MinTemp</th>\n",
       "      <th>MaxTemp</th>\n",
       "      <th>Rainfall</th>\n",
       "      <th>WindGustSpeed</th>\n",
       "      <th>WindSpeed9am</th>\n",
       "      <th>WindSpeed3pm</th>\n",
       "      <th>Humidity9am</th>\n",
       "      <th>Humidity3pm</th>\n",
       "      <th>Pressure9am</th>\n",
       "      <th>Pressure3pm</th>\n",
       "      <th>Cloud3pm</th>\n",
       "      <th>Temp9am</th>\n",
       "      <th>Temp3pm</th>\n",
       "      <th>RainToday</th>\n",
       "      <th>RainTomorrow</th>\n",
       "    </tr>\n",
       "  </thead>\n",
       "  <tbody>\n",
       "    <tr>\n",
       "      <th>0</th>\n",
       "      <td>1</td>\n",
       "      <td>Albury</td>\n",
       "      <td>20.4</td>\n",
       "      <td>37.6</td>\n",
       "      <td>0.0</td>\n",
       "      <td>54</td>\n",
       "      <td>0</td>\n",
       "      <td>7</td>\n",
       "      <td>46</td>\n",
       "      <td>17</td>\n",
       "      <td>1013.4</td>\n",
       "      <td>1009.2</td>\n",
       "      <td>3</td>\n",
       "      <td>26.1</td>\n",
       "      <td>36.7</td>\n",
       "      <td>No</td>\n",
       "      <td>No</td>\n",
       "    </tr>\n",
       "    <tr>\n",
       "      <th>1</th>\n",
       "      <td>1</td>\n",
       "      <td>Albury</td>\n",
       "      <td>20.9</td>\n",
       "      <td>33.6</td>\n",
       "      <td>0.4</td>\n",
       "      <td>50</td>\n",
       "      <td>9</td>\n",
       "      <td>17</td>\n",
       "      <td>54</td>\n",
       "      <td>30</td>\n",
       "      <td>1011.1</td>\n",
       "      <td>1008.4</td>\n",
       "      <td>8</td>\n",
       "      <td>24.8</td>\n",
       "      <td>31.7</td>\n",
       "      <td>No</td>\n",
       "      <td>Yes</td>\n",
       "    </tr>\n",
       "    <tr>\n",
       "      <th>2</th>\n",
       "      <td>1</td>\n",
       "      <td>Albury</td>\n",
       "      <td>18.4</td>\n",
       "      <td>23.1</td>\n",
       "      <td>2.2</td>\n",
       "      <td>48</td>\n",
       "      <td>11</td>\n",
       "      <td>39</td>\n",
       "      <td>62</td>\n",
       "      <td>67</td>\n",
       "      <td>1014.0</td>\n",
       "      <td>1014.8</td>\n",
       "      <td>8</td>\n",
       "      <td>21.8</td>\n",
       "      <td>19.5</td>\n",
       "      <td>Yes</td>\n",
       "      <td>Yes</td>\n",
       "    </tr>\n",
       "    <tr>\n",
       "      <th>3</th>\n",
       "      <td>1</td>\n",
       "      <td>Albury</td>\n",
       "      <td>17.3</td>\n",
       "      <td>23.7</td>\n",
       "      <td>15.6</td>\n",
       "      <td>39</td>\n",
       "      <td>9</td>\n",
       "      <td>17</td>\n",
       "      <td>74</td>\n",
       "      <td>65</td>\n",
       "      <td>1017.9</td>\n",
       "      <td>1016.5</td>\n",
       "      <td>8</td>\n",
       "      <td>19.2</td>\n",
       "      <td>21.6</td>\n",
       "      <td>Yes</td>\n",
       "      <td>Yes</td>\n",
       "    </tr>\n",
       "    <tr>\n",
       "      <th>4</th>\n",
       "      <td>1</td>\n",
       "      <td>Albury</td>\n",
       "      <td>15.5</td>\n",
       "      <td>22.9</td>\n",
       "      <td>6.8</td>\n",
       "      <td>31</td>\n",
       "      <td>6</td>\n",
       "      <td>9</td>\n",
       "      <td>92</td>\n",
       "      <td>63</td>\n",
       "      <td>1016.3</td>\n",
       "      <td>1013.9</td>\n",
       "      <td>8</td>\n",
       "      <td>17.2</td>\n",
       "      <td>22.2</td>\n",
       "      <td>Yes</td>\n",
       "      <td>No</td>\n",
       "    </tr>\n",
       "  </tbody>\n",
       "</table>\n",
       "</div>"
      ],
      "text/plain": [
       "   Month Location  MinTemp  MaxTemp  Rainfall  WindGustSpeed  WindSpeed9am  \\\n",
       "0      1   Albury     20.4     37.6       0.0             54             0   \n",
       "1      1   Albury     20.9     33.6       0.4             50             9   \n",
       "2      1   Albury     18.4     23.1       2.2             48            11   \n",
       "3      1   Albury     17.3     23.7      15.6             39             9   \n",
       "4      1   Albury     15.5     22.9       6.8             31             6   \n",
       "\n",
       "   WindSpeed3pm  Humidity9am  Humidity3pm  Pressure9am  Pressure3pm  Cloud3pm  \\\n",
       "0             7           46           17       1013.4       1009.2         3   \n",
       "1            17           54           30       1011.1       1008.4         8   \n",
       "2            39           62           67       1014.0       1014.8         8   \n",
       "3            17           74           65       1017.9       1016.5         8   \n",
       "4             9           92           63       1016.3       1013.9         8   \n",
       "\n",
       "   Temp9am  Temp3pm RainToday RainTomorrow  \n",
       "0     26.1     36.7        No           No  \n",
       "1     24.8     31.7        No          Yes  \n",
       "2     21.8     19.5       Yes          Yes  \n",
       "3     19.2     21.6       Yes          Yes  \n",
       "4     17.2     22.2       Yes           No  "
      ]
     },
     "execution_count": 4,
     "metadata": {},
     "output_type": "execute_result"
    }
   ],
   "source": [
    "dataset.head()"
   ]
  },
  {
   "cell_type": "markdown",
   "metadata": {},
   "source": [
    "- distribuzione dei valori (std)"
   ]
  },
  {
   "cell_type": "code",
   "execution_count": 20,
   "metadata": {
    "collapsed": true
   },
   "outputs": [
    {
     "data": {
      "text/html": [
       "<div>\n",
       "<style scoped>\n",
       "    .dataframe tbody tr th:only-of-type {\n",
       "        vertical-align: middle;\n",
       "    }\n",
       "\n",
       "    .dataframe tbody tr th {\n",
       "        vertical-align: top;\n",
       "    }\n",
       "\n",
       "    .dataframe thead th {\n",
       "        text-align: right;\n",
       "    }\n",
       "</style>\n",
       "<table border=\"1\" class=\"dataframe\">\n",
       "  <thead>\n",
       "    <tr style=\"text-align: right;\">\n",
       "      <th></th>\n",
       "      <th>Month</th>\n",
       "      <th>MinTemp</th>\n",
       "      <th>MaxTemp</th>\n",
       "      <th>Rainfall</th>\n",
       "      <th>WindGustSpeed</th>\n",
       "      <th>WindSpeed9am</th>\n",
       "      <th>WindSpeed3pm</th>\n",
       "      <th>Humidity9am</th>\n",
       "      <th>Humidity3pm</th>\n",
       "      <th>Pressure9am</th>\n",
       "      <th>Pressure3pm</th>\n",
       "      <th>Cloud3pm</th>\n",
       "      <th>Temp9am</th>\n",
       "      <th>Temp3pm</th>\n",
       "    </tr>\n",
       "  </thead>\n",
       "  <tbody>\n",
       "    <tr>\n",
       "      <th>count</th>\n",
       "      <td>14468.000000</td>\n",
       "      <td>14468.000000</td>\n",
       "      <td>14468.000000</td>\n",
       "      <td>14468.000000</td>\n",
       "      <td>14468.000000</td>\n",
       "      <td>14468.000000</td>\n",
       "      <td>14468.000000</td>\n",
       "      <td>14468.000000</td>\n",
       "      <td>14468.000000</td>\n",
       "      <td>14468.000000</td>\n",
       "      <td>14468.000000</td>\n",
       "      <td>14468.000000</td>\n",
       "      <td>14468.000000</td>\n",
       "      <td>14468.000000</td>\n",
       "    </tr>\n",
       "    <tr>\n",
       "      <th>mean</th>\n",
       "      <td>6.482168</td>\n",
       "      <td>12.571793</td>\n",
       "      <td>23.402924</td>\n",
       "      <td>2.341492</td>\n",
       "      <td>40.375242</td>\n",
       "      <td>14.463437</td>\n",
       "      <td>19.146254</td>\n",
       "      <td>68.868745</td>\n",
       "      <td>51.949336</td>\n",
       "      <td>1016.854140</td>\n",
       "      <td>1014.381089</td>\n",
       "      <td>2.443945</td>\n",
       "      <td>17.261114</td>\n",
       "      <td>21.876265</td>\n",
       "    </tr>\n",
       "    <tr>\n",
       "      <th>std</th>\n",
       "      <td>3.404448</td>\n",
       "      <td>6.231579</td>\n",
       "      <td>7.084502</td>\n",
       "      <td>8.091881</td>\n",
       "      <td>13.755842</td>\n",
       "      <td>8.628992</td>\n",
       "      <td>8.653345</td>\n",
       "      <td>18.629859</td>\n",
       "      <td>20.596100</td>\n",
       "      <td>7.053964</td>\n",
       "      <td>10.908566</td>\n",
       "      <td>3.608546</td>\n",
       "      <td>6.392711</td>\n",
       "      <td>6.931246</td>\n",
       "    </tr>\n",
       "    <tr>\n",
       "      <th>min</th>\n",
       "      <td>1.000000</td>\n",
       "      <td>-5.500000</td>\n",
       "      <td>4.600000</td>\n",
       "      <td>0.000000</td>\n",
       "      <td>9.000000</td>\n",
       "      <td>0.000000</td>\n",
       "      <td>0.000000</td>\n",
       "      <td>4.000000</td>\n",
       "      <td>3.000000</td>\n",
       "      <td>982.000000</td>\n",
       "      <td>-1.000000</td>\n",
       "      <td>-1.000000</td>\n",
       "      <td>-1.100000</td>\n",
       "      <td>1.700000</td>\n",
       "    </tr>\n",
       "    <tr>\n",
       "      <th>25%</th>\n",
       "      <td>4.000000</td>\n",
       "      <td>7.900000</td>\n",
       "      <td>17.700000</td>\n",
       "      <td>0.000000</td>\n",
       "      <td>31.000000</td>\n",
       "      <td>9.000000</td>\n",
       "      <td>13.000000</td>\n",
       "      <td>57.000000</td>\n",
       "      <td>37.000000</td>\n",
       "      <td>1012.600000</td>\n",
       "      <td>1010.000000</td>\n",
       "      <td>-1.000000</td>\n",
       "      <td>12.300000</td>\n",
       "      <td>16.400000</td>\n",
       "    </tr>\n",
       "    <tr>\n",
       "      <th>50%</th>\n",
       "      <td>6.000000</td>\n",
       "      <td>12.200000</td>\n",
       "      <td>22.900000</td>\n",
       "      <td>0.000000</td>\n",
       "      <td>39.000000</td>\n",
       "      <td>13.000000</td>\n",
       "      <td>19.000000</td>\n",
       "      <td>70.000000</td>\n",
       "      <td>53.000000</td>\n",
       "      <td>1017.000000</td>\n",
       "      <td>1014.700000</td>\n",
       "      <td>1.000000</td>\n",
       "      <td>16.800000</td>\n",
       "      <td>21.300000</td>\n",
       "    </tr>\n",
       "    <tr>\n",
       "      <th>75%</th>\n",
       "      <td>9.000000</td>\n",
       "      <td>17.100000</td>\n",
       "      <td>28.600000</td>\n",
       "      <td>1.000000</td>\n",
       "      <td>48.000000</td>\n",
       "      <td>20.000000</td>\n",
       "      <td>24.000000</td>\n",
       "      <td>83.000000</td>\n",
       "      <td>66.000000</td>\n",
       "      <td>1021.300000</td>\n",
       "      <td>1018.925000</td>\n",
       "      <td>7.000000</td>\n",
       "      <td>21.900000</td>\n",
       "      <td>26.800000</td>\n",
       "    </tr>\n",
       "    <tr>\n",
       "      <th>max</th>\n",
       "      <td>12.000000</td>\n",
       "      <td>29.200000</td>\n",
       "      <td>45.100000</td>\n",
       "      <td>225.000000</td>\n",
       "      <td>120.000000</td>\n",
       "      <td>65.000000</td>\n",
       "      <td>65.000000</td>\n",
       "      <td>100.000000</td>\n",
       "      <td>100.000000</td>\n",
       "      <td>1040.300000</td>\n",
       "      <td>1036.400000</td>\n",
       "      <td>8.000000</td>\n",
       "      <td>36.200000</td>\n",
       "      <td>43.500000</td>\n",
       "    </tr>\n",
       "  </tbody>\n",
       "</table>\n",
       "</div>"
      ],
      "text/plain": [
       "              Month       MinTemp       MaxTemp      Rainfall  WindGustSpeed  \\\n",
       "count  14468.000000  14468.000000  14468.000000  14468.000000   14468.000000   \n",
       "mean       6.482168     12.571793     23.402924      2.341492      40.375242   \n",
       "std        3.404448      6.231579      7.084502      8.091881      13.755842   \n",
       "min        1.000000     -5.500000      4.600000      0.000000       9.000000   \n",
       "25%        4.000000      7.900000     17.700000      0.000000      31.000000   \n",
       "50%        6.000000     12.200000     22.900000      0.000000      39.000000   \n",
       "75%        9.000000     17.100000     28.600000      1.000000      48.000000   \n",
       "max       12.000000     29.200000     45.100000    225.000000     120.000000   \n",
       "\n",
       "       WindSpeed9am  WindSpeed3pm   Humidity9am   Humidity3pm   Pressure9am  \\\n",
       "count  14468.000000  14468.000000  14468.000000  14468.000000  14468.000000   \n",
       "mean      14.463437     19.146254     68.868745     51.949336   1016.854140   \n",
       "std        8.628992      8.653345     18.629859     20.596100      7.053964   \n",
       "min        0.000000      0.000000      4.000000      3.000000    982.000000   \n",
       "25%        9.000000     13.000000     57.000000     37.000000   1012.600000   \n",
       "50%       13.000000     19.000000     70.000000     53.000000   1017.000000   \n",
       "75%       20.000000     24.000000     83.000000     66.000000   1021.300000   \n",
       "max       65.000000     65.000000    100.000000    100.000000   1040.300000   \n",
       "\n",
       "        Pressure3pm      Cloud3pm       Temp9am       Temp3pm  \n",
       "count  14468.000000  14468.000000  14468.000000  14468.000000  \n",
       "mean    1014.381089      2.443945     17.261114     21.876265  \n",
       "std       10.908566      3.608546      6.392711      6.931246  \n",
       "min       -1.000000     -1.000000     -1.100000      1.700000  \n",
       "25%     1010.000000     -1.000000     12.300000     16.400000  \n",
       "50%     1014.700000      1.000000     16.800000     21.300000  \n",
       "75%     1018.925000      7.000000     21.900000     26.800000  \n",
       "max     1036.400000      8.000000     36.200000     43.500000  "
      ]
     },
     "execution_count": 20,
     "metadata": {},
     "output_type": "execute_result"
    }
   ],
   "source": [
    "dataset.describe()"
   ]
  },
  {
   "cell_type": "markdown",
   "metadata": {},
   "source": [
    " - valori nulli per colonna"
   ]
  },
  {
   "cell_type": "code",
   "execution_count": 21,
   "metadata": {
    "collapsed": true
   },
   "outputs": [
    {
     "data": {
      "text/plain": [
       "Month            False\n",
       "Location         False\n",
       "MinTemp          False\n",
       "MaxTemp          False\n",
       "Rainfall         False\n",
       "WindGustSpeed    False\n",
       "WindSpeed9am     False\n",
       "WindSpeed3pm     False\n",
       "Humidity9am      False\n",
       "Humidity3pm      False\n",
       "Pressure9am      False\n",
       "Pressure3pm      False\n",
       "Cloud3pm         False\n",
       "Temp9am          False\n",
       "Temp3pm          False\n",
       "RainToday        False\n",
       "RainTomorrow     False\n",
       "dtype: bool"
      ]
     },
     "execution_count": 21,
     "metadata": {},
     "output_type": "execute_result"
    }
   ],
   "source": [
    "dataset.isnull().any()"
   ]
  },
  {
   "cell_type": "markdown",
   "metadata": {},
   "source": [
    " - il dataset è bilanciato per colonna 'col'"
   ]
  },
  {
   "cell_type": "code",
   "execution_count": 22,
   "metadata": {
    "collapsed": true
   },
   "outputs": [
    {
     "data": {
      "text/plain": [
       "RainToday\n",
       "No     11023\n",
       "Yes     3445\n",
       "dtype: int64"
      ]
     },
     "execution_count": 22,
     "metadata": {},
     "output_type": "execute_result"
    }
   ],
   "source": [
    "dataset.groupby(['RainToday']).size()"
   ]
  },
  {
   "cell_type": "code",
   "execution_count": 23,
   "metadata": {
    "collapsed": true
   },
   "outputs": [
    {
     "data": {
      "text/plain": [
       "array([[<matplotlib.axes._subplots.AxesSubplot object at 0x7f0427277a90>,\n",
       "        <matplotlib.axes._subplots.AxesSubplot object at 0x7f04273e97d0>,\n",
       "        <matplotlib.axes._subplots.AxesSubplot object at 0x7f0427176e10>],\n",
       "       [<matplotlib.axes._subplots.AxesSubplot object at 0x7f0427268150>,\n",
       "        <matplotlib.axes._subplots.AxesSubplot object at 0x7f04270c4450>,\n",
       "        <matplotlib.axes._subplots.AxesSubplot object at 0x7f04270d9750>],\n",
       "       [<matplotlib.axes._subplots.AxesSubplot object at 0x7f04270e8c50>,\n",
       "        <matplotlib.axes._subplots.AxesSubplot object at 0x7f0427685490>,\n",
       "        <matplotlib.axes._subplots.AxesSubplot object at 0x7f0427688510>],\n",
       "       [<matplotlib.axes._subplots.AxesSubplot object at 0x7f042769ae50>,\n",
       "        <matplotlib.axes._subplots.AxesSubplot object at 0x7f042764ccd0>,\n",
       "        <matplotlib.axes._subplots.AxesSubplot object at 0x7f04275f8510>]],\n",
       "      dtype=object)"
      ]
     },
     "execution_count": 23,
     "metadata": {},
     "output_type": "execute_result"
    },
    {
     "data": {
      "image/png": "[encoded data removed]",
      "text/plain": [
       "<Figure size 576x576 with 12 Axes>"
      ]
     },
     "metadata": {
      "needs_background": "light"
     },
     "output_type": "display_data"
    }
   ],
   "source": [
    "dataset['RainToday'].hist(by=dataset['Month'], figsize=(8, 8))"
   ]
  },
  {
   "cell_type": "markdown",
   "metadata": {},
   "source": [
    "## Trasformazione e Predizione"
   ]
  },
  {
   "cell_type": "code",
   "execution_count": null,
   "metadata": {
    "collapsed": true
   },
   "outputs": [],
   "source": [
    "# Copia di un dataset\n",
    "datasetcp = dataset.copy(deep=True)\n",
    "# Eliminazione di colonne\n",
    "datasetwo = dataset.drop(columns=['MaxTemp', 'WindGustSpeed'])\n",
    "# Righe nulle per colonna / righe non nulle per colonna\n",
    "dataset.loc[dataset['Rainfall'].isnull()]\n",
    "dataset.loc[dataset['Rainfall'].notnull()]\n",
    "# Sostituzione dei valori di una colonna\n",
    "dataset.loc[dataset['Rainfall'] == 0, 'Rainfall'] = 0"
   ]
  },
  {
   "cell_type": "code",
   "execution_count": null,
   "metadata": {},
   "outputs": [],
   "source": [
    "# Split del dataset in dimensioni arbitrarie con shuffle delle righe\n",
    "split_index = np.random.permutation(len(dataset.index))\n",
    "row_boundary = int(3/4 * len(dataset.index))\n",
    "\n",
    "d1 = dataset.loc[split_index[:row_boundary]]\n",
    "d2 = dataset.loc[split_index[row_boundary:]]"
   ]
  },
  {
   "cell_type": "code",
   "execution_count": null,
   "metadata": {},
   "outputs": [],
   "source": [
    "# Split del dataset in automatico\n",
    "\n",
    "from sklearn.model_selection import train_test_split\n",
    "\n",
    "X = dataset.loc[:, dataset.columns != 'RainTomorrow']\n",
    "y = dataset.loc[:, dataset.columns == 'RainTomorrow']\n",
    "\n",
    "X_train, X_test, y_train, y_test = train_test_split(X, y, train_split=0.8, test_split=0.2)"
   ]
  },
  {
   "cell_type": "markdown",
   "metadata": {},
   "source": [
    " - tipicamente per classificatori ad albero non c'è bisogno di effettuare scaling o normalizzazione\n",
    " - per i classificatori *non ad albero* i passi consigliati sono\n",
    "     1. utilizzo di MinMaxScaler\n",
    "     2. utilizzo di StandardScaler"
   ]
  },
  {
   "cell_type": "code",
   "execution_count": null,
   "metadata": {},
   "outputs": [],
   "source": [
    "# Categorizzazione in valori booleani delle colonne\n",
    "\n",
    "month_dummies = pd.get_dummies(dataset['Month'], prefix='Month')\n",
    "dataset_disc_months = dataset.join(month_dummies)"
   ]
  },
  {
   "cell_type": "code",
   "execution_count": null,
   "metadata": {},
   "outputs": [],
   "source": [
    "# Normalizzazione\n",
    "\n",
    "from sklearn.preprocessing import StandardScaler\n",
    "\n",
    "scaler = StandardScaler()\n",
    "scaler.fit(X_train)\n",
    "X_train_scaled = scaler.transform(X_train)\n",
    "X_test_scaled = scaler.transform(X_test)\n",
    "\n",
    "# Se ci sono molti outlier utilizzo di RobustScaler\n",
    "\n",
    "from sklearn.preprocessing import RobustScaler\n",
    "\n",
    "transformer = RobustScaler()\n",
    "transformer.fit(X_train)\n",
    "X_train_scaled = transformer.transform(X_train)\n",
    "X_test_scaled = transformer.trasnform(X_test)\n",
    "\n",
    "# Scaling all'interno di un intervallo\n",
    "\n",
    "from sklearn.preprocessing import MinMaxScaler\n",
    "\n",
    "minmaxscaler = MinMaxScaler()\n",
    "minmaxscaler.fit(X_train)\n",
    "X_train_min_max = minmaxscaler.transform(X_train)\n",
    "X_test_min_max = minmaxscaler.transform(X_test)\n",
    "\n",
    "# Normalizing\n",
    "\n",
    "from sklearn.preprocessing import Normalizer\n",
    "\n",
    "normalizer = Normalizer()\n",
    "normalizer.fit(X_train)\n",
    "X_train_normalized = normalizer.transform(X_train)\n",
    "X_test_normalized = normalizer.transform(X_test)"
   ]
  },
  {
   "cell_type": "code",
   "execution_count": null,
   "metadata": {},
   "outputs": [],
   "source": [
    "# Utilizzo di modelli per classification/prediction\n",
    "\n",
    "from sklearn.linear_model import LogisticRegression\n",
    "\n",
    "model = LogisticRegression()\n",
    "model.fit(X_train_scaled, y_train)\n",
    "y_pred = model.predict(X_test_scaled)\n",
    "\n",
    "# K-Fold cross validation\n",
    "\n",
    "from sklearn.model_selection import KFold\n",
    "from sklearn.model_selection import cross_val_score\n",
    "\n",
    "cv = KFold(n_splits=10)\n",
    "model = LogisticRegression()\n",
    "score = cross_val_score(model, X, y, cv=cv)"
   ]
  },
  {
   "cell_type": "code",
   "execution_count": 1,
   "metadata": {},
   "outputs": [],
   "source": [
    "# Valutazione\n",
    "\n",
    "from sklearn.metrics import accuracy_score, confusion_matrix, classification_report\n",
    "\n",
    "accuracy = accuracy_score(y_test, y_pred)\n",
    "print(confusion_matrix(y_test, y_pred))\n",
    "classification_report(y_test, y_pred)"
   ]
  },
  {
   "cell_type": "code",
   "execution_count": null,
   "metadata": {},
   "outputs": [],
   "source": [
    "# Utilizzo di pipelines\n",
    "\n",
    "from sklearn.pipeline import Pipeline\n",
    "\n",
    "preprocessing_pipeline = Pipeline(steps=[('min_max', MinMaxScaler()),\n",
    "                                        'normalizer', Normalizer()])\n",
    "model_pipeline = Pipeline(steps=[('model', LogisticRegression())])\n",
    "pipeline = Pipeline(steps=[('preprocessing', preprocessing_pipeline),\n",
    "                          'model', model_pipeline])\n",
    "pipeline.fit(X_train, y_train)\n",
    "y_pred = pipeline.predict(X_test)"
   ]
  },
  {
   "cell_type": "code",
   "execution_count": null,
   "metadata": {},
   "outputs": [],
   "source": [
    "# GridSearch\n",
    "\n",
    "# TODO"
   ]
  },
  {
   "cell_type": "code",
   "execution_count": 8,
   "metadata": {},
   "outputs": [
    {
     "data": {
      "text/plain": [
       "Month               AxesSubplot(0.125,0.536818;0.0945122x0.343182)\n",
       "MinTemp          AxesSubplot(0.238415,0.536818;0.0945122x0.343182)\n",
       "MaxTemp          AxesSubplot(0.351829,0.536818;0.0945122x0.343182)\n",
       "Rainfall         AxesSubplot(0.465244,0.536818;0.0945122x0.343182)\n",
       "WindGustSpeed    AxesSubplot(0.578659,0.536818;0.0945122x0.343182)\n",
       "WindSpeed9am     AxesSubplot(0.692073,0.536818;0.0945122x0.343182)\n",
       "WindSpeed3pm     AxesSubplot(0.805488,0.536818;0.0945122x0.343182)\n",
       "Humidity9am            AxesSubplot(0.125,0.125;0.0945122x0.343182)\n",
       "Humidity3pm         AxesSubplot(0.238415,0.125;0.0945122x0.343182)\n",
       "Pressure9am         AxesSubplot(0.351829,0.125;0.0945122x0.343182)\n",
       "Pressure3pm         AxesSubplot(0.465244,0.125;0.0945122x0.343182)\n",
       "Cloud3pm            AxesSubplot(0.578659,0.125;0.0945122x0.343182)\n",
       "Temp9am             AxesSubplot(0.692073,0.125;0.0945122x0.343182)\n",
       "Temp3pm             AxesSubplot(0.805488,0.125;0.0945122x0.343182)\n",
       "dtype: object"
      ]
     },
     "execution_count": 8,
     "metadata": {},
     "output_type": "execute_result"
    },
    {
     "data": {
      "image/png": "[encoded data removed]",
      "text/plain": [
       "<Figure size 864x576 with 14 Axes>"
      ]
     },
     "metadata": {
      "needs_background": "light"
     },
     "output_type": "display_data"
    }
   ],
   "source": [
    "# Plotting data\n",
    "\n",
    "# TODO\n",
    "\n",
    "# Valuta la distribuzione delle feature\n",
    "dataset.plot(kind='box', subplots=True, layout=(2, 7), figsize=(12, 8))"
   ]
  }
 ],
 "metadata": {
  "kernelspec": {
   "display_name": "Python (bda)",
   "language": "python",
   "name": "bda"
  },
  "language_info": {
   "codemirror_mode": {
    "name": "ipython",
    "version": 3
   },
   "file_extension": ".py",
   "mimetype": "text/x-python",
   "name": "python",
   "nbconvert_exporter": "python",
   "pygments_lexer": "ipython3",
   "version": "3.7.6"
  }
 },
 "nbformat": 4,
 "nbformat_minor": 2
}
